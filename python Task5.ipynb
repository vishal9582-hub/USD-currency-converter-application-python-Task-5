{
 "cells": [
  {
   "cell_type": "code",
   "execution_count": 1,
   "id": "a6e7fc8e-7324-4138-a6f4-afa89bff5d84",
   "metadata": {},
   "outputs": [],
   "source": [
    "import tkinter as tk\n",
    "from tkinter import ttk\n",
    "import requests\n"
   ]
  },
  {
   "cell_type": "markdown",
   "id": "c833458e-e8a6-4c8a-a1ea-33f7288703e3",
   "metadata": {},
   "source": [
    "# Fetch Exchange Rates"
   ]
  },
  {
   "cell_type": "code",
   "execution_count": 2,
   "id": "c9dfc3f4-22a5-4b9a-985b-d1efce23e60c",
   "metadata": {},
   "outputs": [],
   "source": [
    "def get_exchange_rates():\n",
    "    # Example API endpoint (you'll need to replace with your own API key or use a free one)\n",
    "    url = \"https://api.exchangerate-api.com/v4/latest/USD\"\n",
    "    \n",
    "    try:\n",
    "        response = requests.get(url)\n",
    "        data = response.json()\n",
    "        return data['rates']\n",
    "    except Exception as e:\n",
    "        print(f\"Error fetching exchange rates: {e}\")\n",
    "        return None\n"
   ]
  },
  {
   "cell_type": "markdown",
   "id": "20097cd6-55b1-4e40-b19a-a61fed036278",
   "metadata": {},
   "source": [
    "#  Create Currency Conversion Logic"
   ]
  },
  {
   "cell_type": "code",
   "execution_count": 3,
   "id": "25ee2bee-4703-40ec-a318-54bc25e4b7e0",
   "metadata": {},
   "outputs": [],
   "source": [
    "def convert_currency(amount, currency, rates):\n",
    "    if currency not in rates:\n",
    "        return None\n",
    "    return amount * rates[currency]\n"
   ]
  },
  {
   "cell_type": "markdown",
   "id": "a8d97c75-617c-45e0-b45d-d0dd9236b501",
   "metadata": {},
   "source": [
    "# Design the GUI"
   ]
  },
  {
   "cell_type": "code",
   "execution_count": 4,
   "id": "a8c476df-ada1-42ed-be80-ba2819f0a269",
   "metadata": {},
   "outputs": [],
   "source": [
    "def create_gui():\n",
    "    # Initialize the main window\n",
    "    root = tk.Tk()\n",
    "    root.title(\"USD Currency Converter\")\n",
    "    \n",
    "    # Fetch exchange rates\n",
    "    rates = get_exchange_rates()\n",
    "    \n",
    "    if rates is None:\n",
    "        tk.Label(root, text=\"Error fetching exchange rates\", fg=\"red\").pack()\n",
    "        return\n",
    "    \n",
    "    # Input field for USD amount\n",
    "    tk.Label(root, text=\"Enter amount in USD:\").pack()\n",
    "    amount_entry = tk.Entry(root)\n",
    "    amount_entry.pack()\n",
    "    \n",
    "    # Dropdown menu for currency selection\n",
    "    tk.Label(root, text=\"Select target currency:\").pack()\n",
    "    currency_var = tk.StringVar(root)\n",
    "    currency_menu = ttk.Combobox(root, textvariable=currency_var, values=list(rates.keys()))\n",
    "    currency_menu.pack()\n",
    "    \n",
    "    # Label for displaying the result\n",
    "    result_label = tk.Label(root, text=\"\")\n",
    "    result_label.pack()\n",
    "    \n",
    "    # Function to handle conversion\n",
    "    def on_convert():\n",
    "        amount = float(amount_entry.get())\n",
    "        currency = currency_var.get()\n",
    "        converted_amount = convert_currency(amount, currency, rates)\n",
    "        if converted_amount is not None:\n",
    "            result_label.config(text=f\"{amount} USD = {converted_amount:.2f} {currency}\")\n",
    "        else:\n",
    "            result_label.config(text=\"Conversion error!\")\n",
    "    \n",
    "    # Convert button\n",
    "    convert_button = tk.Button(root, text=\"Convert\", command=on_convert)\n",
    "    convert_button.pack()\n",
    "    \n",
    "    # Run the application\n",
    "    root.mainloop()\n",
    "\n",
    "# Call the function to create and run the GUI\n",
    "create_gui()\n"
   ]
  },
  {
   "cell_type": "code",
   "execution_count": null,
   "id": "078250aa-ed22-4bfc-9096-b89aeba5bcff",
   "metadata": {},
   "outputs": [],
   "source": []
  }
 ],
 "metadata": {
  "kernelspec": {
   "display_name": "Python 3 (ipykernel)",
   "language": "python",
   "name": "python3"
  },
  "language_info": {
   "codemirror_mode": {
    "name": "ipython",
    "version": 3
   },
   "file_extension": ".py",
   "mimetype": "text/x-python",
   "name": "python",
   "nbconvert_exporter": "python",
   "pygments_lexer": "ipython3",
   "version": "3.11.7"
  }
 },
 "nbformat": 4,
 "nbformat_minor": 5
}
